{
 "cells": [
  {
   "cell_type": "code",
   "execution_count": 2,
   "source": [
    "import pandas as pd"
   ],
   "outputs": [],
   "metadata": {}
  },
  {
   "cell_type": "code",
   "execution_count": 7,
   "source": [
    "periodicTableData = pd.read_csv('./data/processed_data.csv').T\n",
    "periodicTableData.columns = periodicTableData.iloc[2]\n",
    "periodicTableData.drop('name')\n",
    "periodicTableData.to_csv('./data/periodicTableData.csv', index = False);"
   ],
   "outputs": [],
   "metadata": {}
  },
  {
   "cell_type": "code",
   "execution_count": null,
   "source": [],
   "outputs": [],
   "metadata": {}
  }
 ],
 "metadata": {
  "orig_nbformat": 4,
  "language_info": {
   "name": "python",
   "version": "3.9.6",
   "mimetype": "text/x-python",
   "codemirror_mode": {
    "name": "ipython",
    "version": 3
   },
   "pygments_lexer": "ipython3",
   "nbconvert_exporter": "python",
   "file_extension": ".py"
  },
  "kernelspec": {
   "name": "python3",
   "display_name": "Python 3.9.6 64-bit ('myenv': conda)"
  },
  "interpreter": {
   "hash": "00bca2af0129ce580c570fb3763a438e33367b2c407c4bfbf06761b1e80f4041"
  }
 },
 "nbformat": 4,
 "nbformat_minor": 2
}